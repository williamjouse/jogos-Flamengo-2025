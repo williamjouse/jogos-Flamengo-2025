{
 "cells": [
  {
   "cell_type": "markdown",
   "id": "a2f21cd1",
   "metadata": {},
   "source": [
    "# Análise de dados dos jogos do Flamengo 2024"
   ]
  },
  {
   "cell_type": "code",
   "execution_count": null,
   "id": "67bd2241",
   "metadata": {},
   "outputs": [],
   "source": [
    "# Carregando algumas bibliotecas importantes\n",
    "import numpy as np\n",
    "import pandas as pd \n",
    "import csv\n",
    "from datetime import datetime"
   ]
  },
  {
   "cell_type": "code",
   "execution_count": null,
   "id": "cc929339",
   "metadata": {},
   "outputs": [],
   "source": [
    "# Importando os arquivos\n",
    "jogos = pd.read_csv('../data/processed/matches_FLA2025_processed.csv', parse_dates=['kick-off'])\n",
    "gols = pd.read_csv('../data/processed/goal_scorers_2025_processed.csv')"
   ]
  },
  {
   "cell_type": "markdown",
   "id": "ede659a1",
   "metadata": {},
   "source": [
    "## Estatísticas "
   ]
  },
  {
   "cell_type": "code",
   "execution_count": null,
   "id": "d4a82fd4",
   "metadata": {},
   "outputs": [],
   "source": [
    "# Calculando os gols pró, sofridos e saldo de gols\n",
    "gols_pro = jogos.gols_casa.sum() + jogos.gols_fora.sum()\n",
    "gols_contra = jogos.gols_sofridos_casa.sum() + jogos.gols_sofridos_fora.sum()\n",
    "saldo_gols = gols_pro - gols_contra"
   ]
  },
  {
   "cell_type": "code",
   "execution_count": null,
   "id": "738e1f6d",
   "metadata": {},
   "outputs": [],
   "source": [
    "# Obtendo o número de vitórias, derrotas, empates e total de jogos\n",
    "vitorias = jogos['resultado'].value_counts().iloc[0]\n",
    "derrotas = jogos['resultado'].value_counts().iloc[2]\n",
    "empates = jogos['resultado'].value_counts().iloc[1]\n",
    "total_jogos = vitorias + empates + derrotas\n",
    "\n",
    "# Gols pro e sofridos por jogo\n",
    "gols_per_jogo = round(gols_pro/total_jogos,2)\n",
    "gols_sofrido_jogo = round(gols_contra/total_jogos,2)\n",
    "\n",
    "# Calculando o aproveitamento\n",
    "aproveitamento = round((3*vitorias + 1*empates + 0*derrotas)/(3*total_jogos)*100,2)\n",
    "aproveitamento_pontos = (3*vitorias + 1*empates + 0*derrotas)"
   ]
  },
  {
   "cell_type": "code",
   "execution_count": null,
   "id": "f63efb03",
   "metadata": {},
   "outputs": [],
   "source": [
    "jogos"
   ]
  },
  {
   "cell_type": "code",
   "execution_count": null,
   "id": "b5c2d18c",
   "metadata": {},
   "outputs": [],
   "source": [
    "jogos_marcou = jogos.marcou_gol.value_counts().iloc[0]\n",
    "jogos_nao_marcou = jogos.marcou_gol.value_counts().iloc[1]\n",
    "\n",
    "jogos_sofreu = jogos.sofreu_gol.value_counts(ascending=True).iloc[0]\n",
    "jogos_nao_sofreu = jogos.sofreu_gol.value_counts(ascending=True).iloc[1]"
   ]
  },
  {
   "cell_type": "code",
   "execution_count": null,
   "id": "bf25e872",
   "metadata": {},
   "outputs": [],
   "source": [
    "stats = pd.DataFrame(jogos[['id_match', 'marcou_gol', 'sofreu_gol', 'kick-off', 'resultado', 'locale', 'jogos_cumulativos']])\n",
    "\n",
    "stats['gols_marcados'] = jogos.gols_casa + jogos.gols_fora\n",
    "stats['gols_sofridos'] = jogos.gols_sofridos_casa + jogos.gols_sofridos_fora\n",
    "\n",
    "stats['gols_marcados_acumulados'] = stats['gols_marcados'].cumsum()\n",
    "stats['gols_sofridos_acumulados'] = stats['gols_sofridos'].cumsum()\n",
    "stats['diferença_gols_acumulados'] = stats['gols_marcados_acumulados'] - stats['gols_sofridos_acumulados']"
   ]
  },
  {
   "cell_type": "code",
   "execution_count": null,
   "id": "e630b928",
   "metadata": {},
   "outputs": [],
   "source": [
    "print(\n",
    "\"\"\"\n",
    "Jogos: {0}\n",
    "Vitórias: {1}\n",
    "Empates: {2}\n",
    "Derrotas: {3}*\n",
    "Gols pro: {4}\n",
    "Gols contra: {5}\n",
    "Saldo de gols: +{6}\n",
    "Gols/jogo: {7}\n",
    "Gols sofridos/jogo: {8}\n",
    "Jogos em que marcou: {9}\n",
    "Jogos em que sofreu gol: {10} \n",
    "Aproveitamento: {11}%\n",
    "Aproveitamento pontos: {12}/{13}\n",
    "\n",
    "*Filipe Luis tem apenas {14} derrota no ano.\n",
    "\"\"\".format(total_jogos,vitorias,empates,derrotas,gols_pro,gols_contra,saldo_gols,gols_per_jogo,\n",
    "           gols_sofrido_jogo,jogos_marcou,jogos_sofreu,aproveitamento,aproveitamento_pontos, 3*total_jogos,derrotas-2))"
   ]
  },
  {
   "cell_type": "markdown",
   "id": "6c3db6ab",
   "metadata": {},
   "source": [
    "### Criando tabelas com o número de gols e assistências"
   ]
  },
  {
   "cell_type": "code",
   "execution_count": null,
   "id": "7a930630",
   "metadata": {},
   "outputs": [],
   "source": [
    "# Fazendo o merge dos dataframes jogos e gols\n",
    "df = pd.merge(jogos, gols, on = 'id_match')\n",
    "df.head()"
   ]
  },
  {
   "cell_type": "code",
   "execution_count": null,
   "id": "5c53d049",
   "metadata": {},
   "outputs": [],
   "source": [
    "# Quantidade de gols por jogador\n",
    "\n",
    "df_gols_counts = pd.DataFrame(gols.gols.value_counts())\n",
    "df_gols_counts = df_gols_counts.reset_index()\n",
    "df_gols_counts.columns = ['Jogador', 'Gols'] \n",
    "\n",
    "# Quantidade de assistência por jogador\n",
    "\n",
    "df_assist_counts = pd.DataFrame(gols.assist.value_counts())\n",
    "df_assist_counts = df_assist_counts.reset_index()\n",
    "df_assist_counts.columns = ['Jogador', 'Assistências'] \n",
    "\n",
    "new_df = pd.concat([df_assist_counts, df_gols_counts], axis=1)#.dropna(how='all')\n",
    "print(new_df.to_markdown(index=False))"
   ]
  },
  {
   "cell_type": "code",
   "execution_count": null,
   "id": "86cd96cf",
   "metadata": {},
   "outputs": [],
   "source": [
    "# Unificando as tabelas gols e assistências\n",
    "uni_df = pd.merge(df_gols_counts, df_assist_counts, on = 'Jogador', how =\"left\").fillna(0).head(15)\n",
    "\n",
    "print(uni_df.to_markdown(index=False))"
   ]
  },
  {
   "cell_type": "code",
   "execution_count": null,
   "id": "3c109d67",
   "metadata": {},
   "outputs": [],
   "source": [
    "stats['year'] = stats['kick-off'].map(lambda x: datetime.strftime(x,\"%Y\"))\n",
    "stats['month'] = stats['kick-off'].map(lambda x: datetime.strftime(x,\"%b\"))\n",
    "stats['weekday'] = stats['kick-off'].map(lambda x: datetime.strftime(x,\"%a\"))"
   ]
  },
  {
   "cell_type": "code",
   "execution_count": null,
   "id": "8d7a0976",
   "metadata": {},
   "outputs": [],
   "source": [
    "stats.to_csv('../data/processed/stats_FLA2025_processed.csv', index=False)"
   ]
  },
  {
   "cell_type": "code",
   "execution_count": null,
   "id": "798b43f4",
   "metadata": {},
   "outputs": [],
   "source": [
    "stats"
   ]
  },
  {
   "cell_type": "code",
   "execution_count": null,
   "id": "6c5f5cc8-3ab0-499a-a2fe-ef3cdc4db66d",
   "metadata": {},
   "outputs": [],
   "source": []
  }
 ],
 "metadata": {
  "kernelspec": {
   "display_name": "Python 3 (ipykernel)",
   "language": "python",
   "name": "python3"
  },
  "language_info": {
   "codemirror_mode": {
    "name": "ipython",
    "version": 3
   },
   "file_extension": ".py",
   "mimetype": "text/x-python",
   "name": "python",
   "nbconvert_exporter": "python",
   "pygments_lexer": "ipython3",
   "version": "3.12.7"
  }
 },
 "nbformat": 4,
 "nbformat_minor": 5
}
